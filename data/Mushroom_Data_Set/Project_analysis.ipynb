{
 "cells": [
  {
   "cell_type": "markdown",
   "metadata": {},
   "source": [
    "### General description of the dataset"
   ]
  },
  {
   "cell_type": "code",
   "execution_count": 4,
   "metadata": {
    "collapsed": true
   },
   "outputs": [],
   "source": [
    "%matplotlib inline\n",
    "import pandas as pd\n",
    "import numpy as np\n",
    "import matplotlib.pyplot as plt\n",
    "import seaborn as sns\n",
    "from sklearn.preprocessing import LabelEncoder\n",
    "from sklearn.metrics import classification_report, confusion_matrix, accuracy_score\n",
    "from sklearn.model_selection import train_test_split\n",
    "from sklearn.ensemble import RandomForestClassifier"
   ]
  },
  {
   "cell_type": "code",
   "execution_count": 2,
   "metadata": {},
   "outputs": [
    {
     "name": "stdout",
     "output_type": "stream",
     "text": [
      "Index(['cap-shape', 'cap-surface', 'cap-color', 'bruises?', 'odor',\n",
      "       'gill-attachment', 'gill-spacing', 'gill-size', 'gill-color',\n",
      "       'stalk-shape', 'stalk-root', 'stalk-surface-above-ring',\n",
      "       'stalk-surface-below-ring', 'stalk-color-above-ring',\n",
      "       'stalk-color-below-ring', 'veil-type', 'veil-color', 'ring-number',\n",
      "       'ring-type', 'spore-print-color', 'population', 'habitat'],\n",
      "      dtype='object')\n"
     ]
    },
    {
     "data": {
      "text/html": [
       "<div>\n",
       "<style>\n",
       "    .dataframe thead tr:only-child th {\n",
       "        text-align: right;\n",
       "    }\n",
       "\n",
       "    .dataframe thead th {\n",
       "        text-align: left;\n",
       "    }\n",
       "\n",
       "    .dataframe tbody tr th {\n",
       "        vertical-align: top;\n",
       "    }\n",
       "</style>\n",
       "<table border=\"1\" class=\"dataframe\">\n",
       "  <thead>\n",
       "    <tr style=\"text-align: right;\">\n",
       "      <th></th>\n",
       "      <th>cap-shape</th>\n",
       "      <th>cap-surface</th>\n",
       "      <th>cap-color</th>\n",
       "      <th>bruises?</th>\n",
       "      <th>odor</th>\n",
       "      <th>gill-attachment</th>\n",
       "      <th>gill-spacing</th>\n",
       "      <th>gill-size</th>\n",
       "      <th>gill-color</th>\n",
       "      <th>stalk-shape</th>\n",
       "      <th>...</th>\n",
       "      <th>stalk-surface-below-ring</th>\n",
       "      <th>stalk-color-above-ring</th>\n",
       "      <th>stalk-color-below-ring</th>\n",
       "      <th>veil-type</th>\n",
       "      <th>veil-color</th>\n",
       "      <th>ring-number</th>\n",
       "      <th>ring-type</th>\n",
       "      <th>spore-print-color</th>\n",
       "      <th>population</th>\n",
       "      <th>habitat</th>\n",
       "    </tr>\n",
       "  </thead>\n",
       "  <tbody>\n",
       "    <tr>\n",
       "      <th>0</th>\n",
       "      <td>x</td>\n",
       "      <td>s</td>\n",
       "      <td>n</td>\n",
       "      <td>t</td>\n",
       "      <td>p</td>\n",
       "      <td>f</td>\n",
       "      <td>c</td>\n",
       "      <td>n</td>\n",
       "      <td>k</td>\n",
       "      <td>e</td>\n",
       "      <td>...</td>\n",
       "      <td>s</td>\n",
       "      <td>w</td>\n",
       "      <td>w</td>\n",
       "      <td>p</td>\n",
       "      <td>w</td>\n",
       "      <td>o</td>\n",
       "      <td>p</td>\n",
       "      <td>k</td>\n",
       "      <td>s</td>\n",
       "      <td>u</td>\n",
       "    </tr>\n",
       "    <tr>\n",
       "      <th>1</th>\n",
       "      <td>x</td>\n",
       "      <td>s</td>\n",
       "      <td>y</td>\n",
       "      <td>t</td>\n",
       "      <td>a</td>\n",
       "      <td>f</td>\n",
       "      <td>c</td>\n",
       "      <td>b</td>\n",
       "      <td>k</td>\n",
       "      <td>e</td>\n",
       "      <td>...</td>\n",
       "      <td>s</td>\n",
       "      <td>w</td>\n",
       "      <td>w</td>\n",
       "      <td>p</td>\n",
       "      <td>w</td>\n",
       "      <td>o</td>\n",
       "      <td>p</td>\n",
       "      <td>n</td>\n",
       "      <td>n</td>\n",
       "      <td>g</td>\n",
       "    </tr>\n",
       "    <tr>\n",
       "      <th>2</th>\n",
       "      <td>b</td>\n",
       "      <td>s</td>\n",
       "      <td>w</td>\n",
       "      <td>t</td>\n",
       "      <td>l</td>\n",
       "      <td>f</td>\n",
       "      <td>c</td>\n",
       "      <td>b</td>\n",
       "      <td>n</td>\n",
       "      <td>e</td>\n",
       "      <td>...</td>\n",
       "      <td>s</td>\n",
       "      <td>w</td>\n",
       "      <td>w</td>\n",
       "      <td>p</td>\n",
       "      <td>w</td>\n",
       "      <td>o</td>\n",
       "      <td>p</td>\n",
       "      <td>n</td>\n",
       "      <td>n</td>\n",
       "      <td>m</td>\n",
       "    </tr>\n",
       "    <tr>\n",
       "      <th>3</th>\n",
       "      <td>x</td>\n",
       "      <td>y</td>\n",
       "      <td>w</td>\n",
       "      <td>t</td>\n",
       "      <td>p</td>\n",
       "      <td>f</td>\n",
       "      <td>c</td>\n",
       "      <td>n</td>\n",
       "      <td>n</td>\n",
       "      <td>e</td>\n",
       "      <td>...</td>\n",
       "      <td>s</td>\n",
       "      <td>w</td>\n",
       "      <td>w</td>\n",
       "      <td>p</td>\n",
       "      <td>w</td>\n",
       "      <td>o</td>\n",
       "      <td>p</td>\n",
       "      <td>k</td>\n",
       "      <td>s</td>\n",
       "      <td>u</td>\n",
       "    </tr>\n",
       "    <tr>\n",
       "      <th>4</th>\n",
       "      <td>x</td>\n",
       "      <td>s</td>\n",
       "      <td>g</td>\n",
       "      <td>f</td>\n",
       "      <td>n</td>\n",
       "      <td>f</td>\n",
       "      <td>w</td>\n",
       "      <td>b</td>\n",
       "      <td>k</td>\n",
       "      <td>t</td>\n",
       "      <td>...</td>\n",
       "      <td>s</td>\n",
       "      <td>w</td>\n",
       "      <td>w</td>\n",
       "      <td>p</td>\n",
       "      <td>w</td>\n",
       "      <td>o</td>\n",
       "      <td>e</td>\n",
       "      <td>n</td>\n",
       "      <td>a</td>\n",
       "      <td>g</td>\n",
       "    </tr>\n",
       "  </tbody>\n",
       "</table>\n",
       "<p>5 rows × 22 columns</p>\n",
       "</div>"
      ],
      "text/plain": [
       "  cap-shape cap-surface cap-color bruises? odor gill-attachment gill-spacing  \\\n",
       "0         x           s         n        t    p               f            c   \n",
       "1         x           s         y        t    a               f            c   \n",
       "2         b           s         w        t    l               f            c   \n",
       "3         x           y         w        t    p               f            c   \n",
       "4         x           s         g        f    n               f            w   \n",
       "\n",
       "  gill-size gill-color stalk-shape   ...   stalk-surface-below-ring  \\\n",
       "0         n          k           e   ...                          s   \n",
       "1         b          k           e   ...                          s   \n",
       "2         b          n           e   ...                          s   \n",
       "3         n          n           e   ...                          s   \n",
       "4         b          k           t   ...                          s   \n",
       "\n",
       "  stalk-color-above-ring stalk-color-below-ring veil-type veil-color  \\\n",
       "0                      w                      w         p          w   \n",
       "1                      w                      w         p          w   \n",
       "2                      w                      w         p          w   \n",
       "3                      w                      w         p          w   \n",
       "4                      w                      w         p          w   \n",
       "\n",
       "  ring-number ring-type spore-print-color population habitat  \n",
       "0           o         p                 k          s       u  \n",
       "1           o         p                 n          n       g  \n",
       "2           o         p                 n          n       m  \n",
       "3           o         p                 k          s       u  \n",
       "4           o         e                 n          a       g  \n",
       "\n",
       "[5 rows x 22 columns]"
      ]
     },
     "execution_count": 2,
     "metadata": {},
     "output_type": "execute_result"
    }
   ],
   "source": [
    "data = pd.read_csv('agaricus-lepiota.data', sep=',', header=None)\n",
    "# Add column IDs\n",
    "# I am lazy so I will just read them from a file\n",
    "colnames = pd.read_csv('colnames.txt', header=None)\n",
    "colID = ['target']\n",
    "for i in colnames[0]:\n",
    "    colID.append(i)\n",
    "\n",
    "data.columns = colID\n",
    "target_var = data['target']\n",
    "data.drop('target', axis = 1, inplace=True)\n",
    "y = LabelEncoder().fit_transform(target_var) # p == 1, e == 0\n",
    "print(data.columns)\n",
    "data.head()"
   ]
  },
  {
   "cell_type": "markdown",
   "metadata": {},
   "source": [
    "### Question to answer with the dataset\n",
    "\n",
    "1. is there a quick and simple parameter that could be able to discriminate between poisonous and non poisonous data (reasoning with animals)?\n",
    "\n",
    "2. is there any observable variation for plant parts (cap, gill, stalk, veil, or ring) able to discriminate between poisonous and edible mushrooms\n",
    "\n",
    "3. Use all the dataset\n",
    "\n",
    "4. Try to combine multiple data source and make an ensemble learning"
   ]
  },
  {
   "cell_type": "markdown",
   "metadata": {},
   "source": [
    "### 1. is there a quick and simple parameter that could be able to discriminate between poisonous and non poisonous data (reasoning with animals)"
   ]
  },
  {
   "cell_type": "code",
   "execution_count": 24,
   "metadata": {},
   "outputs": [
    {
     "name": "stdout",
     "output_type": "stream",
     "text": [
      "        E    P\n",
      "odor          \n",
      "a     1.0  0.0\n",
      "c     0.0  1.0\n",
      "f     0.0  1.0\n",
      "l     1.0  0.0\n",
      "m     0.0  1.0\n"
     ]
    },
    {
     "data": {
      "image/png": "[encoded data removed]",
      "text/plain": [
       "<matplotlib.figure.Figure at 0x7fc4559a4e48>"
      ]
     },
     "metadata": {},
     "output_type": "display_data"
    }
   ],
   "source": [
    "# Animals have good smells and need to recognize if a mushroom is poisonous\n",
    "# I will look\n",
    "\n",
    "# create DF with odor data\n",
    "odor = pd.DataFrame({'p':y, 'odor':data['odor']})\n",
    "odor_poison = odor.groupby('odor').sum()\n",
    "odor_poison_size = odor.groupby('odor').size()\n",
    "odor_data = pd.DataFrame({'P': odor_poison['p']/odor_poison_size, \n",
    "                          'E':(odor_poison_size-odor_poison['p'])/odor_poison_size})\n",
    "print(odor_data.head())\n",
    "sns.set_style('whitegrid')\n",
    "plt.figure(figsize=(8,4))\n",
    "sns.set(style='whitegrid', context='notebook')\n",
    "sns.heatmap(odor_data.T*100, fmt = '.1f', cmap = 'plasma', cbar = True, annot = True, \n",
    "            linewidth = 2, yticklabels=('Edible', 'Poisonous'))\n",
    "plt.yticks(rotation=0)\n",
    "plt.show()"
   ]
  },
  {
   "cell_type": "code",
   "execution_count": 88,
   "metadata": {},
   "outputs": [
    {
     "name": "stdout",
     "output_type": "stream",
     "text": [
      "             precision    recall  f1-score   support\n",
      "\n",
      "     edible       0.97      1.00      0.99      4208\n",
      "  poisonous       1.00      0.97      0.98      3916\n",
      "\n",
      "avg / total       0.99      0.99      0.99      8124\n",
      "\n",
      "Accuracy:  0.985228951256\n"
     ]
    },
    {
     "data": {
      "image/png": "[encoded data removed]",
      "text/plain": [
       "<matplotlib.figure.Figure at 0x7fc4592aed30>"
      ]
     },
     "metadata": {},
     "output_type": "display_data"
    }
   ],
   "source": [
    "## create a small decision rule for categorical variables\n",
    "## maybe you can include it in a separate class so you can use\n",
    "## a custom majority vote classifier\n",
    "\n",
    "from sklearn.base import BaseEstimator, TransformerMixin\n",
    "\n",
    "class OdorDecision(BaseEstimator, TransformerMixin):\n",
    "    def __init__(self, non_poison=['a', 'l', 'n']):\n",
    "        self.non_poison = non_poison\n",
    "    def fit(self, X, y=None):\n",
    "        return self\n",
    "    def predict(self, X):\n",
    "        pred = [0 if i in self.non_poison else 1 for i in X]\n",
    "        return pred\n",
    "    \n",
    "#def odor_decision_rule(odor_vars):\n",
    "#    non_poison = ['a', 'l', 'n']\n",
    "#    pred = [0 if i in non_poison else 1 for i in odor_vars]\n",
    " #   return pred\n",
    "\n",
    "X = data['odor'].values\n",
    "od = OdorDecision()\n",
    "pred = od.predict(X)\n",
    "print(classification_report(y, pred, target_names = ['edible', 'poisonous']))\n",
    "print('Accuracy: ', accuracy_score(y, pred))\n",
    "plt.figure(figsize = (6,6))\n",
    "sns.heatmap(confusion_matrix(y, pred),\n",
    "           cmap = 'plasma', annot = True,\n",
    "            fmt = '.1f', cbar = True,linewidth = 2, \n",
    "            yticklabels=('Edible', 'Poisonous'),\n",
    "            xticklabels=('Edible', 'Posonous')\n",
    "           )\n",
    "plt.yticks(rotation=0)\n",
    "plt.xlabel('Predicted', fontsize=20)\n",
    "plt.ylabel\n",
    "plt.show()\n"
   ]
  },
  {
   "cell_type": "markdown",
   "metadata": {
    "collapsed": true
   },
   "source": [
    "## 2. is there any observable variation for plant parts (cap, gill, stalk, veil, or ring) able to discriminate between poisonous and edible mushrooms (you can use LDA on single organs?\n",
    "\n",
    "### 2.1 caps"
   ]
  },
  {
   "cell_type": "code",
   "execution_count": 102,
   "metadata": {},
   "outputs": [
    {
     "name": "stdout",
     "output_type": "stream",
     "text": [
      "             precision    recall  f1-score   support\n",
      "\n",
      "     edible       0.70      0.75      0.73      3357\n",
      "  poisonous       0.71      0.66      0.68      3142\n",
      "\n",
      "avg / total       0.71      0.71      0.71      6499\n",
      "\n",
      "Accuracy:  0.706108632097\n"
     ]
    }
   ],
   "source": [
    "caps = data[['cap-shape', 'cap-surface', 'cap-color']]\n",
    "X_dum = pd.get_dummies(caps).values\n",
    "\n",
    "X_train, X_test, y_train, y_test= train_test_split(X_dum, y,\n",
    "                                                  test_size=0.2, random_state=101)\n",
    "\n",
    "rfc_caps = RandomForestClassifier(n_estimators=100, random_state=42)\n",
    "rfc_caps.fit(X_train, y_train)\n",
    "\n",
    "# test in sample precision with CV\n",
    "\n",
    "y_train_pred = cross_val_predict(rfc_caps, X_train, y_train, cv = 5)\n",
    "\n",
    "print(classification_report(y_train, y_train_pred, target_names = ['edible', 'poisonous']))\n",
    "print('Accuracy: ', accuracy_score(y_train, y_train_pred))"
   ]
  },
  {
   "cell_type": "markdown",
   "metadata": {},
   "source": [
    "Not really good though, even though the model is not overfitting!!"
   ]
  },
  {
   "cell_type": "markdown",
   "metadata": {
    "collapsed": true
   },
   "source": [
    "### 2.2 Gills"
   ]
  },
  {
   "cell_type": "code",
   "execution_count": 103,
   "metadata": {},
   "outputs": [
    {
     "name": "stdout",
     "output_type": "stream",
     "text": [
      "             precision    recall  f1-score   support\n",
      "\n",
      "          0       0.94      0.82      0.88      3357\n",
      "          1       0.83      0.95      0.89      3142\n",
      "\n",
      "avg / total       0.89      0.88      0.88      6499\n",
      "\n",
      "Accuracy:  0.883366671796\n"
     ]
    }
   ],
   "source": [
    "gills = data[['gill-attachment', 'gill-spacing', 'gill-size', 'gill-color']]\n",
    "\n",
    "X_gills = pd.get_dummies(gills).values\n",
    "\n",
    "X_train, X_test, y_train, y_test = train_test_split(X_gills, y,\n",
    "                                                   test_size = 0.2, random_state = 101)\n",
    "\n",
    "rfc_gills = RandomForestClassifier(n_estimators=100, random_state=42)\n",
    "\n",
    "rfc_gills.fit(X_train, y_train)\n",
    "\n",
    "# In sample precision with CV\n",
    "y_train_pred = cross_val_predict(rfc_gills, X_train, y_train, cv = 5)\n",
    "print(classification_report(y_train, y_train_pred))\n",
    "print('Accuracy: ', accuracy_score(y_train, y_train_pred))"
   ]
  },
  {
   "cell_type": "markdown",
   "metadata": {},
   "source": [
    "Gills are definitely a best predictor overall for this problem\n",
    "\n",
    "### 2.3 Stalk"
   ]
  },
  {
   "cell_type": "code",
   "execution_count": 104,
   "metadata": {},
   "outputs": [
    {
     "name": "stdout",
     "output_type": "stream",
     "text": [
      "             precision    recall  f1-score   support\n",
      "\n",
      "          0       0.98      0.97      0.98      3357\n",
      "          1       0.97      0.98      0.98      3142\n",
      "\n",
      "avg / total       0.98      0.98      0.98      6499\n",
      "\n",
      "Accuracy:  0.976304046776\n"
     ]
    }
   ],
   "source": [
    "stalks = data[['stalk-shape', 'stalk-root', 'stalk-surface-above-ring',\n",
    "       'stalk-surface-below-ring', 'stalk-color-above-ring',\n",
    "       'stalk-color-below-ring']]\n",
    "\n",
    "X_stalks = pd.get_dummies(stalks).values\n",
    "\n",
    "X_train, X_test, y_train, y_test = train_test_split(X_stalks, y,\n",
    "                                                   test_size=0.2, random_state=101)\n",
    "\n",
    "rfc_stalks = RandomForestClassifier(n_estimators=100, random_state=42)\n",
    "rfc_stalks.fit(X_train, y_train)\n",
    "\n",
    "# in sample\n",
    "y_train_pred = cross_val_predict(rfc_stalks, X_train, y_train, cv = 5)\n",
    "print(classification_report(y_train, y_train_pred))\n",
    "print('Accuracy: ', accuracy_score(y_train, y_train_pred))"
   ]
  },
  {
   "cell_type": "markdown",
   "metadata": {},
   "source": [
    "THe stalks are the one most predictive so far"
   ]
  },
  {
   "cell_type": "markdown",
   "metadata": {},
   "source": [
    "### 2.4 Veil"
   ]
  },
  {
   "cell_type": "code",
   "execution_count": 105,
   "metadata": {},
   "outputs": [
    {
     "name": "stdout",
     "output_type": "stream",
     "text": [
      "             precision    recall  f1-score   support\n",
      "\n",
      "          0       0.52      1.00      0.68      3357\n",
      "          1       1.00      0.00      0.00      3142\n",
      "\n",
      "avg / total       0.75      0.52      0.35      6499\n",
      "\n",
      "Accuracy:  0.517464225265\n"
     ]
    }
   ],
   "source": [
    "veil = data[['veil-type', 'veil-color']]\n",
    "\n",
    "X_veil = pd.get_dummies(veil).values\n",
    "\n",
    "X_train, X_test, y_train, y_test = train_test_split(X_veil, y,\n",
    "                                                   test_size=0.2, random_state=101)\n",
    "\n",
    "rfc_veil = RandomForestClassifier(n_estimators=100, random_state=42)\n",
    "rfc_veil.fit(X_train, y_train)\n",
    "\n",
    "# in sample\n",
    "y_train_pred = cross_val_predict(rfc_veil, X_train, y_train, cv = 5)\n",
    "print(classification_report(y_train, y_train_pred))\n",
    "print('Accuracy: ', accuracy_score(y_train, y_train_pred))"
   ]
  },
  {
   "cell_type": "markdown",
   "metadata": {},
   "source": [
    " Veil is really accurate for predict poison mushrooms!\n",
    " \n",
    " ### 2.5 Rings"
   ]
  },
  {
   "cell_type": "code",
   "execution_count": 106,
   "metadata": {},
   "outputs": [
    {
     "name": "stdout",
     "output_type": "stream",
     "text": [
      "             precision    recall  f1-score   support\n",
      "\n",
      "          0       0.80      0.80      0.80      3357\n",
      "          1       0.79      0.79      0.79      3142\n",
      "\n",
      "avg / total       0.80      0.80      0.80      6499\n",
      "\n",
      "Accuracy:  0.795507001077\n"
     ]
    }
   ],
   "source": [
    "rings = data[['ring-number','ring-type']]\n",
    "\n",
    "X_ring = pd.get_dummies(rings)\n",
    "\n",
    "X_train, X_test, y_train, y_test = train_test_split(X_ring, y,\n",
    "                                                   test_size=0.2, random_state=101)\n",
    "\n",
    "rfc_ring = RandomForestClassifier(n_estimators=100, random_state=42)\n",
    "rfc_ring.fit(X_train, y_train)\n",
    "\n",
    "y_train_pred = cross_val_predict(rfc_ring, X_train, y_train, cv = 5)\n",
    "print(classification_report(y_train, y_train_pred))\n",
    "print('Accuracy: ', accuracy_score(y_train, y_train_pred))"
   ]
  },
  {
   "cell_type": "markdown",
   "metadata": {},
   "source": [
    "## 3 Use all dataset"
   ]
  },
  {
   "cell_type": "code",
   "execution_count": 108,
   "metadata": {},
   "outputs": [
    {
     "name": "stdout",
     "output_type": "stream",
     "text": [
      "             precision    recall  f1-score   support\n",
      "\n",
      "          0       1.00      1.00      1.00      3357\n",
      "          1       1.00      1.00      1.00      3142\n",
      "\n",
      "avg / total       1.00      1.00      1.00      6499\n",
      "\n",
      "Accuracy:  1.0\n"
     ]
    }
   ],
   "source": [
    "X = pd.get_dummies(data).values\n",
    "X_train, X_test, y_train, y_test = train_test_split(X, y, \n",
    "                                                   test_size = 0.2, random_state=101)\n",
    "\n",
    "rfc_all = RandomForestClassifier(n_estimators=100, random_state=42)\n",
    "rfc_all.fit(X_train, y_train)\n",
    "\n",
    "y_train_pred = cross_val_predict(rfc_all, X_train, y_train, cv = 10)\n",
    "print(classification_report(y_train, y_train_pred))\n",
    "print('Accuracy: ', accuracy_score(y_train, y_train_pred))"
   ]
  },
  {
   "cell_type": "code",
   "execution_count": 109,
   "metadata": {},
   "outputs": [
    {
     "name": "stdout",
     "output_type": "stream",
     "text": [
      "             precision    recall  f1-score   support\n",
      "\n",
      "          0       1.00      1.00      1.00       851\n",
      "          1       1.00      1.00      1.00       774\n",
      "\n",
      "avg / total       1.00      1.00      1.00      1625\n",
      "\n",
      "1.0\n"
     ]
    }
   ],
   "source": [
    "# out of sample precision\n",
    "y_pred = rfc_all.predict(X_test)\n",
    "print(classification_report(y_test, y_pred))\n",
    "print(accuracy_score(y_test, y_pred))"
   ]
  },
  {
   "cell_type": "code",
   "execution_count": 110,
   "metadata": {},
   "outputs": [
    {
     "data": {
      "text/plain": [
       "<matplotlib.axes._subplots.AxesSubplot at 0x7fc454ccd7b8>"
      ]
     },
     "execution_count": 110,
     "metadata": {},
     "output_type": "execute_result"
    },
    {
     "data": {
      "image/png": "[encoded data removed]",
      "text/plain": [
       "<matplotlib.figure.Figure at 0x7fc454ccde80>"
      ]
     },
     "metadata": {},
     "output_type": "display_data"
    }
   ],
   "source": [
    "sns.heatmap(confusion_matrix(y_test, y_pred),\n",
    "           cmap = 'plasma', annot = True,\n",
    "            fmt = '.1f', cbar = True,linewidth = 2, \n",
    "            yticklabels=('Edible', 'Poisonous'),\n",
    "            xticklabels=('Edible', 'Poisonous'))"
   ]
  },
  {
   "cell_type": "code",
   "execution_count": 125,
   "metadata": {
    "collapsed": true
   },
   "outputs": [],
   "source": [
    "# plot feature importances based on RF on all dataset"
   ]
  },
  {
   "cell_type": "code",
   "execution_count": null,
   "metadata": {
    "collapsed": true
   },
   "outputs": [],
   "source": []
  }
 ],
 "metadata": {
  "kernelspec": {
   "display_name": "Python 3",
   "language": "python",
   "name": "python3"
  },
  "language_info": {
   "codemirror_mode": {
    "name": "ipython",
    "version": 3
   },
   "file_extension": ".py",
   "mimetype": "text/x-python",
   "name": "python",
   "nbconvert_exporter": "python",
   "pygments_lexer": "ipython3",
   "version": "3.5.3"
  }
 },
 "nbformat": 4,
 "nbformat_minor": 2
}
